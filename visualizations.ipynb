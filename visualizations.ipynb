{
 "cells": [
  {
   "cell_type": "markdown",
   "id": "54980b4c-7376-40e3-8b09-fced12ecaec4",
   "metadata": {},
   "source": [
    "# SCP Visualizations\n",
    "## Overview\n",
    "This file was created to explore various visualizations of the SCP dataset in order to select interesting visualizations for the SCP Status dashboard.\n",
    "## Setup"
   ]
  },
  {
   "cell_type": "code",
   "execution_count": 3,
   "id": "b80fed08-6156-4bb2-a7bc-fa8b1ab06dc1",
   "metadata": {},
   "outputs": [],
   "source": [
    "#!pip install kagglehub\n",
    "#!pip install pandas\n",
    "#!pip install matplotlib"
   ]
  },
  {
   "cell_type": "code",
   "execution_count": 14,
   "id": "bc8a15bb-a874-4062-a7c9-a68d7e09e6a2",
   "metadata": {},
   "outputs": [],
   "source": [
    "import kagglehub\n",
    "import pandas as pd\n",
    "import matplotlib.pyplot as plt\n",
    "import re\n",
    "\n",
    "pd.set_option('display.max_colwidth', None)\n",
    "\n",
    "def contains_count(string, elements):\n",
    "    count = 0\n",
    "    for element in elements:\n",
    "        count += string.count(element)\n",
    "    return count\n",
    "\n",
    "def get_class(text):\n",
    "    x = re.findall(\"\\\\n (\\w*) Class: (\\w*) \\\\n\", text)\n",
    "    if x :\n",
    "        return(list(x[0]))\n",
    "    else:\n",
    "        return [\"None\", \"None\"]\n",
    "def get_class_type(text):\n",
    "    return get_class(text)[0]\n",
    "def get_class_spec(text):\n",
    "    return get_class(text)[1]"
   ]
  },
  {
   "cell_type": "code",
   "execution_count": 10,
   "id": "13140419-71f4-4cb6-9127-c920fc5b7c71",
   "metadata": {},
   "outputs": [],
   "source": [
    "path = kagglehub.dataset_download(\"czzzzzzz/scp1to7\")\n",
    "df = pd.read_csv(f\"{path}/scp6999.csv\")"
   ]
  },
  {
   "cell_type": "markdown",
   "id": "0ca94dbe-7920-4eee-b968-89ab6578952a",
   "metadata": {},
   "source": [
    "## Data Wrangling\n",
    "\n",
    "Creating new columns to make information easier to access."
   ]
  },
  {
   "cell_type": "code",
   "execution_count": null,
   "id": "379bc4d7-b615-4075-8346-101ae3dc8381",
   "metadata": {},
   "outputs": [],
   "source": []
  },
  {
   "cell_type": "markdown",
   "id": "fadbffd5-84d5-43a5-bed9-43dd82ba7cd4",
   "metadata": {},
   "source": [
    "## Visualizations\n",
    "### Object cl"
   ]
  },
  {
   "cell_type": "code",
   "execution_count": null,
   "id": "18a95e28-195c-43d5-a819-c0ae0b4f7a06",
   "metadata": {},
   "outputs": [],
   "source": []
  }
 ],
 "metadata": {
  "kernelspec": {
   "display_name": "Python [conda env:base] *",
   "language": "python",
   "name": "conda-base-py"
  },
  "language_info": {
   "codemirror_mode": {
    "name": "ipython",
    "version": 3
   },
   "file_extension": ".py",
   "mimetype": "text/x-python",
   "name": "python",
   "nbconvert_exporter": "python",
   "pygments_lexer": "ipython3",
   "version": "3.11.7"
  }
 },
 "nbformat": 4,
 "nbformat_minor": 5
}
