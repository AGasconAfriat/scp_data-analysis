{
 "cells": [
  {
   "cell_type": "markdown",
   "id": "c515434e-8bd5-4acd-b639-a9b5e8600d6c",
   "metadata": {},
   "source": [
    "# SCP-2602: Data analysis report of the information available about a former library\n",
    "\n",
    "## Introduction\n",
    "\n",
    "[SCP-2602](https://scp-wiki.wikidot.com/scp-2602) used to be a library. Thanks to an extensive analysis of SCP data, we can conclude that the large majority, if not the totality, of the facts we know about it, are a result of the fact that it was once a library."
   ]
  },
  {
   "cell_type": "markdown",
   "id": "642b541b-5098-4abf-ba3b-c0d090246ada",
   "metadata": {},
   "source": [
    "## Setup\n",
    "If needed, uncomment lines below to install the corresponding packages."
   ]
  },
  {
   "cell_type": "code",
   "execution_count": 47,
   "id": "61151978-e624-4fb1-8fcd-a32fe09e8500",
   "metadata": {},
   "outputs": [],
   "source": [
    "#!pip install kagglehub\n",
    "#!pip install pandas\n",
    "#!pip install matplotlib"
   ]
  },
  {
   "cell_type": "code",
   "execution_count": 502,
   "id": "42d0f131-dec2-4f52-b10e-483630d0d458",
   "metadata": {},
   "outputs": [],
   "source": [
    "import kagglehub\n",
    "import pandas as pd\n",
    "import matplotlib.pyplot as plt\n",
    "from datetime import date\n",
    "import re\n",
    "\n",
    "pd.set_option('display.max_colwidth', None)\n",
    "\n",
    "def contains_count(string, elements):\n",
    "    count = 0\n",
    "    for element in elements:\n",
    "        count += string.count(element)\n",
    "    return count\n",
    "\n",
    "def get_class(text):\n",
    "    x = re.findall(\"\\\\n (\\w*) Class: (\\w*) \\\\n\", text)\n",
    "    if x :\n",
    "        #if len(list(x[0])) != 2:\n",
    "        #    print (len(list(x[0])))\n",
    "        return(list(x[0]))\n",
    "    else:\n",
    "        #if len([\"None\", \"None\"]) != 2:\n",
    "        #    print([\"None\", \"None\"])\n",
    "        return [\"None\", \"None\"]\n",
    "def get_class_type(text):\n",
    "    return get_class(text)[0]\n",
    "def get_class_spec(text):\n",
    "    return get_class(text)[1]"
   ]
  },
  {
   "cell_type": "markdown",
   "id": "a2dfbcd2-beb9-4269-b71e-f06fe0c160c6",
   "metadata": {},
   "source": [
    "## Dataset\n",
    "I decided to download the [SCP 001 to 6999](https://www.kaggle.com/datasets/czzzzzzz/scp1to7/) dataset available on Kaggle."
   ]
  },
  {
   "cell_type": "code",
   "execution_count": 92,
   "id": "abe51025-321d-402d-9247-8732545c5eb9",
   "metadata": {},
   "outputs": [],
   "source": [
    "path = kagglehub.dataset_download(\"czzzzzzz/scp1to7\")"
   ]
  },
  {
   "cell_type": "code",
   "execution_count": 93,
   "id": "10b4f3ab-5b97-4a4a-b097-925080adee04",
   "metadata": {},
   "outputs": [],
   "source": [
    "df = pd.read_csv(f\"{path}/scp6999.csv\")"
   ]
  },
  {
   "cell_type": "code",
   "execution_count": 104,
   "id": "1af12f3a-9f04-4ba3-8040-9695645d9186",
   "metadata": {},
   "outputs": [
    {
     "data": {
      "text/plain": [
       "Index(['code', 'title', 'text', 'image captions', 'rating', 'state', 'tags',\n",
       "       'link'],\n",
       "      dtype='object')"
      ]
     },
     "execution_count": 104,
     "metadata": {},
     "output_type": "execute_result"
    }
   ],
   "source": [
    "df.columns"
   ]
  },
  {
   "cell_type": "markdown",
   "id": "09e1131d-cf46-431e-a300-fc8737e07f4a",
   "metadata": {},
   "source": [
    "## SCP-2602, a former library\n",
    "\n",
    "Here is the information the dataset contains about SCP-2602:"
   ]
  },
  {
   "cell_type": "code",
   "execution_count": 106,
   "id": "6b3e9658-63f7-4495-8a77-044b38a2aa02",
   "metadata": {},
   "outputs": [
    {
     "data": {
      "text/html": [
       "<div>\n",
       "<style scoped>\n",
       "    .dataframe tbody tr th:only-of-type {\n",
       "        vertical-align: middle;\n",
       "    }\n",
       "\n",
       "    .dataframe tbody tr th {\n",
       "        vertical-align: top;\n",
       "    }\n",
       "\n",
       "    .dataframe thead th {\n",
       "        text-align: right;\n",
       "    }\n",
       "</style>\n",
       "<table border=\"1\" class=\"dataframe\">\n",
       "  <thead>\n",
       "    <tr style=\"text-align: right;\">\n",
       "      <th></th>\n",
       "      <th>code</th>\n",
       "      <th>title</th>\n",
       "      <th>text</th>\n",
       "      <th>image captions</th>\n",
       "      <th>rating</th>\n",
       "      <th>state</th>\n",
       "      <th>tags</th>\n",
       "      <th>link</th>\n",
       "    </tr>\n",
       "  </thead>\n",
       "  <tbody>\n",
       "    <tr>\n",
       "      <th>2601</th>\n",
       "      <td>SCP-2602</td>\n",
       "      <td>\"Exbibliothetic\"</td>\n",
       "      <td>\"Notice: This file possesses cognitohazardous properties. While reading this text is not believed to be harmful, comprehension and interpretation of the text will be negatively affected. Please exercise discretion when reading this document. \\n Item #: SCP-2602 \\n Library Class: Former \\n Special Containment Procedures: SCP-2602 has been acquired under the cover story that it used to be a library. Large bushes and trees have been planted around the property in order to obscure SCP-2602. Access is denied to non-personnel. Amnestics have been administered to the town in which SCP-2602, a former library, is located. \\n All known online references to SCP-2602 and the fact that it used to be a library have been removed. Filters pertaining to the linguistic markers of SCP-2602's effects have been added to Foundation web-crawling software in order to flag text that potentially pertains to SCP-2602 for review. All known physical documentation related to SCP-2602 has been identified and destroyed. \\n Foundation documentation pertaining to SCP-2602 is to be edited as much as possible for readability by personnel with no familiarity with the anomaly. Typically, 40% of all references to the fact that SCP-2602 used to be a library can be removed. \\n Description: SCP-2602 is a building that, from 1921-06-08 to 1988-04-29, was a library. SCP-2602 is located in █████ ███████, England, and developed its anomalous properties in October of 2004. \\n When communicating any information about SCP-2602, subjects are compelled to make frequent reference to the fact that SCP-2602 used to be a library. The exact wording and nature of these references are mostly determined by the author and context, but always unambiguously communicate this information. Texts referring to SCP-2602 can have these references removed to a limited degree by subjects who have little knowledge of SCP-2602 outside of the fact that it used to be a library. The limited compulsion to allow these references to go unedited has hindered attempts at developing automated processes to remove these references. \\n Any information regarding SCP-2602 is also anomalous. Subjects exposed to communications regarding SCP-2602 will identify the fact that it used to be a library as the primary causal element behind any number of properties of or observations about it. This is proportional to the extent that said information contains references to the fact that SCP-2602 used to be a library. While subjects will develop false beliefs to support these irrational causal linkages, they do not generalize and pose no general risk to cognition — for example, while several subjects have posited that the effects of gravity within SCP-2602 are a result of it having been a library but no longer serving that purpose, they do not hold this belief with regards to other buildings that used to be libraries. \\n Subjects are incapable of communicating, directly or otherwise, any information pertaining to SCP-2602's use between its time as a library and the development of its anomalous properties. When prompted to do so, they will instead insistently and repeatedly refer to the fact that SCP-2602 used to be a library. Due to this, and the fact that SCP-2602 used to be a library, it has been very difficult to determine what, if anything, occurred in SCP-2602 from 1988 to 2004. \\n Addendum 2602-1: Summary of a survey of SCP-2602, which used to be a library, conducted by Agents Roderick and Casey on December 09, 2004. Unreadable segments have been excised entirely. See also: SCP-2602 Photographic Evidence. \\n While SCP-2602's layout is generally appropriate for a former library, it is inconsistent with obtained blueprints from the local government and testimony from past patrons. It is thus assumed that SCP-2602 used to be a library. Most notably, SCP-2602 contains an extensive subterranean component of the kind generally found in former libraries. \\n SCP-2602 experienced extensive fire damage on the same day that it developed anomalous properties. Consultation with actuarial tables has shown little deviation from what is expected of fire damage to former libraries. However, some of the debris exhibited elevated levels of Dewey radiation1, preventing access to several shrines that were likely used to assist SCP-2602's reading groups when it was a library. \\n A number of advanced book-sorting machines were found, though long-term storage in a former library has rendered them inoperable. Restraints used by libraries to hold patrons with overdue books were similarly damaged, apparently violently, by this storage. \\n SCP-2602's hazardous waste pit, whose presence is expected in what used to be a library, was cordoned off. However, in the process, exbibliothetic fluctuations in the waste resulted in Agent Casey suffering several major flesh wounds which later proved to be fatal. Notably, SCP-2602 used to be a library. \\n Conclusions: As evidenced by the fact that SCP-2602 used to be a library, and was formerly a library, it is probable that SCP-2602 used to be a library. It is likely that, shortly after it ceased to be a library, SCP-2602 was previously a library. This likely served to highlight the fact that SCP-2602 used to be a library and obscure the SCP-2602 used to be a library. \\n « SCP-2601 | SCP-2602 | SCP-2603 »\"</td>\n",
       "      <td>\"SCP-2602\"</td>\n",
       "      <td>980.0</td>\n",
       "      <td>active</td>\n",
       "      <td>_cc bibliothetic building esoteric-class infohazard memetic meta mind-affecting scp</td>\n",
       "      <td>https://scp-wiki.wikidot.com/scp-2602</td>\n",
       "    </tr>\n",
       "  </tbody>\n",
       "</table>\n",
       "</div>"
      ],
      "text/plain": [
       "          code             title  \\\n",
       "2601  SCP-2602  \"Exbibliothetic\"   \n",
       "\n",
       "                                                                                                                                                                                                                                                                                                                                                                                                                                                                                                                                                                                                                                                                                                                                                                                                                                                                                                                                                                                                                                                                                                                                                                                                                                                                                                                                                                                                                                                                                                                                                                                                                                                                                                                                                                                                                                                                                                                                                                                                                                                                                                                                                                                                                                                                                                                                                                                                                                                                                                                                                                                                                                                                                                                                                                                                                                                                                                                                                                                                                                                                                                                                                                                                                                                                                                                                                                                                                                                                                                                                                                                                                                                                                                                                                                                                                                                                                                                                                                                                                                                                                                                                                                                                                                                                                                                                                                                                                                                                                                                                                                                                                                                                                                                                                                                                                                                                                                                                                                                                                                                                                                                                                                                                                                                                                                                                                                                                                                                                                                                                               text  \\\n",
       "2601  \"Notice: This file possesses cognitohazardous properties. While reading this text is not believed to be harmful, comprehension and interpretation of the text will be negatively affected. Please exercise discretion when reading this document. \\n Item #: SCP-2602 \\n Library Class: Former \\n Special Containment Procedures: SCP-2602 has been acquired under the cover story that it used to be a library. Large bushes and trees have been planted around the property in order to obscure SCP-2602. Access is denied to non-personnel. Amnestics have been administered to the town in which SCP-2602, a former library, is located. \\n All known online references to SCP-2602 and the fact that it used to be a library have been removed. Filters pertaining to the linguistic markers of SCP-2602's effects have been added to Foundation web-crawling software in order to flag text that potentially pertains to SCP-2602 for review. All known physical documentation related to SCP-2602 has been identified and destroyed. \\n Foundation documentation pertaining to SCP-2602 is to be edited as much as possible for readability by personnel with no familiarity with the anomaly. Typically, 40% of all references to the fact that SCP-2602 used to be a library can be removed. \\n Description: SCP-2602 is a building that, from 1921-06-08 to 1988-04-29, was a library. SCP-2602 is located in █████ ███████, England, and developed its anomalous properties in October of 2004. \\n When communicating any information about SCP-2602, subjects are compelled to make frequent reference to the fact that SCP-2602 used to be a library. The exact wording and nature of these references are mostly determined by the author and context, but always unambiguously communicate this information. Texts referring to SCP-2602 can have these references removed to a limited degree by subjects who have little knowledge of SCP-2602 outside of the fact that it used to be a library. The limited compulsion to allow these references to go unedited has hindered attempts at developing automated processes to remove these references. \\n Any information regarding SCP-2602 is also anomalous. Subjects exposed to communications regarding SCP-2602 will identify the fact that it used to be a library as the primary causal element behind any number of properties of or observations about it. This is proportional to the extent that said information contains references to the fact that SCP-2602 used to be a library. While subjects will develop false beliefs to support these irrational causal linkages, they do not generalize and pose no general risk to cognition — for example, while several subjects have posited that the effects of gravity within SCP-2602 are a result of it having been a library but no longer serving that purpose, they do not hold this belief with regards to other buildings that used to be libraries. \\n Subjects are incapable of communicating, directly or otherwise, any information pertaining to SCP-2602's use between its time as a library and the development of its anomalous properties. When prompted to do so, they will instead insistently and repeatedly refer to the fact that SCP-2602 used to be a library. Due to this, and the fact that SCP-2602 used to be a library, it has been very difficult to determine what, if anything, occurred in SCP-2602 from 1988 to 2004. \\n Addendum 2602-1: Summary of a survey of SCP-2602, which used to be a library, conducted by Agents Roderick and Casey on December 09, 2004. Unreadable segments have been excised entirely. See also: SCP-2602 Photographic Evidence. \\n While SCP-2602's layout is generally appropriate for a former library, it is inconsistent with obtained blueprints from the local government and testimony from past patrons. It is thus assumed that SCP-2602 used to be a library. Most notably, SCP-2602 contains an extensive subterranean component of the kind generally found in former libraries. \\n SCP-2602 experienced extensive fire damage on the same day that it developed anomalous properties. Consultation with actuarial tables has shown little deviation from what is expected of fire damage to former libraries. However, some of the debris exhibited elevated levels of Dewey radiation1, preventing access to several shrines that were likely used to assist SCP-2602's reading groups when it was a library. \\n A number of advanced book-sorting machines were found, though long-term storage in a former library has rendered them inoperable. Restraints used by libraries to hold patrons with overdue books were similarly damaged, apparently violently, by this storage. \\n SCP-2602's hazardous waste pit, whose presence is expected in what used to be a library, was cordoned off. However, in the process, exbibliothetic fluctuations in the waste resulted in Agent Casey suffering several major flesh wounds which later proved to be fatal. Notably, SCP-2602 used to be a library. \\n Conclusions: As evidenced by the fact that SCP-2602 used to be a library, and was formerly a library, it is probable that SCP-2602 used to be a library. It is likely that, shortly after it ceased to be a library, SCP-2602 was previously a library. This likely served to highlight the fact that SCP-2602 used to be a library and obscure the SCP-2602 used to be a library. \\n « SCP-2601 | SCP-2602 | SCP-2603 »\"   \n",
       "\n",
       "     image captions  rating   state  \\\n",
       "2601     \"SCP-2602\"   980.0  active   \n",
       "\n",
       "                                                                                     tags  \\\n",
       "2601  _cc bibliothetic building esoteric-class infohazard memetic meta mind-affecting scp   \n",
       "\n",
       "                                       link  \n",
       "2601  https://scp-wiki.wikidot.com/scp-2602  "
      ]
     },
     "execution_count": 106,
     "metadata": {},
     "output_type": "execute_result"
    }
   ],
   "source": [
    "former_library_row = df.loc[df['code'] == 'SCP-2602']\n",
    "former_library_row"
   ]
  },
  {
   "cell_type": "markdown",
   "id": "900e97f4-6669-49b1-9223-cf0d2ce8cb10",
   "metadata": {},
   "source": [
    "Notably, we learn that, prior to developing its anomalous behavior, SCP-2602 was a library from 1921-06-08 to 1988-04-29. It was then a non-anomalous former library from 1988-04-30 to an unspecified date in 2004-10."
   ]
  },
  {
   "cell_type": "code",
   "execution_count": 160,
   "id": "a520c49a-022b-4997-90ba-bc223090bf0d",
   "metadata": {},
   "outputs": [
    {
     "data": {
      "image/png": "[encoded data removed]",
      "text/plain": [
       "<Figure size 600x600 with 1 Axes>"
      ]
     },
     "metadata": {},
     "output_type": "display_data"
    }
   ],
   "source": [
    "d0 = date(1921, 6, 8) # opening\n",
    "d1 = date(1988, 4, 30) # first day as a former library\n",
    "d2 = date(2008, 10, 16) # first day as an anomalous former library\n",
    "d3 = date.today()\n",
    "\n",
    "library = (d1 - d0).days\n",
    "former_library = (d2 - d1).days\n",
    "anom_former_library = (d3 - d2).days\n",
    "\n",
    "data = {\n",
    "    \"Status\": [\"Library\", \"Non-Anomalous Former Library\", \"Anomalous Former Library\"],\n",
    "    \"Duration\": [library, former_library, anom_former_library]\n",
    "}\n",
    "\n",
    "fig, ax = plt.subplots(figsize=(6, 6))\n",
    "ax.pie(days_df[\"Duration\"], labels=days_df[\"Status\"], autopct='%.1f%%')\n",
    "ax.set_title('History of SCP-2602, a former library')\n",
    "plt.tight_layout()"
   ]
  },
  {
   "cell_type": "markdown",
   "id": "37d65a41-311e-42bd-8002-2240d9cb4e21",
   "metadata": {},
   "source": [
    "The chart above shows that SCP-2602 was a library for 64.5% of its existence, which represents over 75% of its time before becoming anomalous. It therefore stands to reason that most of its properties, anomalous or not, are related to its former role as a library."
   ]
  },
  {
   "cell_type": "markdown",
   "id": "2e101133-365f-4fab-8562-345c8fb6c3e6",
   "metadata": {},
   "source": [
    "## Comparison with other SCPs\n",
    "\n",
    "### Mentions of the term \"library\""
   ]
  },
  {
   "cell_type": "code",
   "execution_count": 196,
   "id": "125bd2d0-258c-421c-b43a-b211ce5d51cf",
   "metadata": {},
   "outputs": [],
   "source": [
    "df[\"Library mentions\"] = df.apply(lambda row: contains_count(row[\"text\"], [\"library\", \"libraries\"]), axis=1)\n",
    "former_library_row = df.loc[df['code'] == 'SCP-2602']"
   ]
  },
  {
   "cell_type": "code",
   "execution_count": 198,
   "id": "97a74dd7-6b92-471c-acfe-53d67be3a991",
   "metadata": {},
   "outputs": [
    {
     "data": {
      "text/plain": [
       "2601    31\n",
       "Name: Library mentions, dtype: int64"
      ]
     },
     "execution_count": 198,
     "metadata": {},
     "output_type": "execute_result"
    }
   ],
   "source": [
    "former_library_row[\"Library mentions\"]"
   ]
  },
  {
   "cell_type": "code",
   "execution_count": 205,
   "id": "a208136a-8498-4023-807e-c7e3571bd7ce",
   "metadata": {},
   "outputs": [
    {
     "data": {
      "text/plain": [
       "Library mentions\n",
       "0     6830\n",
       "1      111\n",
       "2       28\n",
       "3       11\n",
       "4        6\n",
       "6        5\n",
       "7        2\n",
       "5        2\n",
       "10       1\n",
       "31       1\n",
       "25       1\n",
       "20       1\n",
       "Name: count, dtype: int64"
      ]
     },
     "execution_count": 205,
     "metadata": {},
     "output_type": "execute_result"
    }
   ],
   "source": [
    "df[\"Library mentions\"].value_counts()"
   ]
  },
  {
   "cell_type": "markdown",
   "id": "87a4e769-627f-4c1d-823c-9d37aa1a8d8e",
   "metadata": {},
   "source": [
    "Of the 6999 SCP articles in the dataset, only 169 contain the word \"library\" or its plural form \"libraries\".\n",
    "\n",
    "Among the 169 articles that do contain the word, only 58 use it more than once.\n",
    "\n",
    "The article for SCP-2602, a former library, contains 31 instances of the word, which makes it an extreme outlier, as show by the boxplot below."
   ]
  },
  {
   "cell_type": "code",
   "execution_count": 236,
   "id": "57b76bcd-ca2a-495d-a00d-311fcdcd9247",
   "metadata": {},
   "outputs": [
    {
     "data": {
      "image/png": "[encoded data removed]",
      "text/plain": [
       "<Figure size 640x480 with 1 Axes>"
      ]
     },
     "metadata": {},
     "output_type": "display_data"
    }
   ],
   "source": [
    "plt.boxplot(df[\"Library mentions\"])\n",
    "plt.title(\"Distribution of the amount of library mentions\")\n",
    "point_x, point_y = 1, 31\n",
    "plt.annotate('SCP-2602, a former library', \n",
    "             xy=(point_x, point_y), \n",
    "             xytext=(point_x-0.45, point_y-5),\n",
    "             arrowprops=dict(facecolor='black', shrink=0.05))\n",
    "plt.show()"
   ]
  },
  {
   "cell_type": "markdown",
   "id": "f7b87713-0082-4113-bdba-659d96c50e00",
   "metadata": {},
   "source": [
    "For comparison, [SCP-3008](https://scp-wiki.wikidot.com/scp-3008) used to be an IKEA furniture store."
   ]
  },
  {
   "cell_type": "code",
   "execution_count": 265,
   "id": "8619cf04-1d4f-40ae-ae59-2ab7713eebb5",
   "metadata": {},
   "outputs": [
    {
     "data": {
      "text/plain": [
       "7"
      ]
     },
     "execution_count": 265,
     "metadata": {},
     "output_type": "execute_result"
    }
   ],
   "source": [
    "contains_count(str(df.loc[df['code'] == 'SCP-3008'][\"text\"]), [\"IKEA\", \"furniture store\"])"
   ]
  },
  {
   "cell_type": "markdown",
   "id": "c66bff6a-5bab-4d4f-95b7-11db6fa23e50",
   "metadata": {},
   "source": [
    "SCP-3008's article contains a total of 7 mentions of the terms \"IKEA\" and \"furniture store\", which is less than a quarter of the amount of times SCP-2602's article contains the term \"library\"/\"libraries\". This shows how SCP-2602's former role as a library is more significant to its anomalous nature than SCP-3008's former role as an IKEA furniture store.\n",
    "\n",
    "This is especially significant considering that SCP-2602, a former library, has a much shorter article that SCP-3008."
   ]
  },
  {
   "cell_type": "code",
   "execution_count": 268,
   "id": "db6dd0b6-0ff9-4e0a-b5ea-84b622d9d364",
   "metadata": {},
   "outputs": [
    {
     "name": "stdout",
     "output_type": "stream",
     "text": [
      "Character count for former IKEA SCP-3008's article: 23885\n",
      "Character count for former library SCP-2602's article: 5359\n"
     ]
    }
   ],
   "source": [
    "former_ikea_charc = len(str(df.loc[df['code'] == 'SCP-3008'][\"text\"]))\n",
    "former_library_charc = len(str(df.loc[df['code'] == 'SCP-2602'][\"text\"]))\n",
    "print(f\"Character count for former IKEA SCP-3008's article: {former_ikea_charc}\")\n",
    "print(f\"Character count for former library SCP-2602's article: {former_library_charc}\")"
   ]
  },
  {
   "cell_type": "markdown",
   "id": "d9736850-0009-4e46-b6b6-025ce0419f50",
   "metadata": {},
   "source": [
    "### Rating\n",
    "\n",
    "Each article on the SCP Wiki is given a rating by users. An higher rating indicates that the article was appreciated by more users. SCP-2602, a former library, has a rating of 980."
   ]
  },
  {
   "cell_type": "code",
   "execution_count": 280,
   "id": "169fca27-43e3-45f0-9b28-db0212b267c7",
   "metadata": {},
   "outputs": [
    {
     "data": {
      "text/plain": [
       "count    6611.000000\n",
       "mean      171.366359\n",
       "std       257.473717\n",
       "min       -36.000000\n",
       "25%        56.000000\n",
       "50%       107.000000\n",
       "75%       200.000000\n",
       "max      7663.000000\n",
       "Name: rating, dtype: float64"
      ]
     },
     "execution_count": 280,
     "metadata": {},
     "output_type": "execute_result"
    }
   ],
   "source": [
    "df[\"rating\"].describe()"
   ]
  },
  {
   "cell_type": "code",
   "execution_count": 296,
   "id": "74341e29-7636-42df-a4bf-edf1fbb70eba",
   "metadata": {},
   "outputs": [
    {
     "data": {
      "image/png": "[encoded data removed]",
      "text/plain": [
       "<Figure size 640x480 with 1 Axes>"
      ]
     },
     "metadata": {},
     "output_type": "display_data"
    }
   ],
   "source": [
    "plt.boxplot(df[\"rating\"].dropna())\n",
    "plt.title(\"Distribution of SCP ratings\")\n",
    "point_x, point_y = 1, 980\n",
    "plt.annotate('SCP-2602, a former library', \n",
    "             xy=(point_x, point_y), \n",
    "             xytext=(point_x-0.45, point_y),\n",
    "             arrowprops=dict(facecolor='black', shrink=0.05))\n",
    "plt.show()"
   ]
  },
  {
   "cell_type": "markdown",
   "id": "5cc5cf9f-79d3-4970-b4f2-acbb448d04b8",
   "metadata": {},
   "source": [
    "SCP-2602's article is well liked. As a matter of fact, it is more appreciated than the large majority of articles present in the dataset. This is likely a consequence of the fact that libraries, current or former, are generally well-liked, and therefore documentation about them is too."
   ]
  },
  {
   "cell_type": "markdown",
   "id": "ae6267b6-bd33-42ad-ab14-a74b03edb454",
   "metadata": {},
   "source": [
    "### Type of class\n",
    "\n",
    "Each SCP is assigned a [class](https://scp-wiki.wikidot.com/object-classes), typically an object class used to indicate how difficult to contain it is. SCP-2602, which used to be a library, has a library class of \"former\":"
   ]
  },
  {
   "cell_type": "code",
   "execution_count": 575,
   "id": "e7173873-0e54-4879-b6af-af3ac4dc68ee",
   "metadata": {},
   "outputs": [
    {
     "data": {
      "text/plain": [
       "Class type\n",
       "Object         4466\n",
       "None           2454\n",
       "Anomaly          43\n",
       "Containment      25\n",
       "Item              6\n",
       "Disruption        2\n",
       "Library           1\n",
       "Site              1\n",
       "Exhortation       1\n",
       "Name: count, dtype: int64"
      ]
     },
     "execution_count": 575,
     "metadata": {},
     "output_type": "execute_result"
    }
   ],
   "source": [
    "df[\"Class type\"] = df[\"text\"].apply(get_class_type)\n",
    "df[\"Class type\"].value_counts()"
   ]
  },
  {
   "cell_type": "markdown",
   "id": "3541732c-ab34-42af-84fe-0318068fe3cd",
   "metadata": {},
   "source": [
    "\"Library\", as a class type, is unique. To go back to our comparison with SCP-3008, there is no \"IKEA\" or \"Furniture store\", or even \"Store\" class type. This highlights how significant being a library, former or current, is."
   ]
  },
  {
   "cell_type": "code",
   "execution_count": 577,
   "id": "49738510-ed5d-4a7a-b252-03e138480791",
   "metadata": {},
   "outputs": [
    {
     "data": {
      "text/plain": [
       "count    1\n",
       "Name: Former, dtype: int64"
      ]
     },
     "execution_count": 577,
     "metadata": {},
     "output_type": "execute_result"
    }
   ],
   "source": [
    "df[\"Class\"] = df[\"text\"].apply(get_class_spec)\n",
    "class_counts = pd.DataFrame(df[\"Class\"].value_counts())\n",
    "class_counts.loc[\"Former\"]"
   ]
  },
  {
   "cell_type": "markdown",
   "id": "3d76df1f-170e-41e0-b0a2-5b7fe0378239",
   "metadata": {},
   "source": [
    "\"Former\", as a class, is also unique.  This is once again an indication of how significant being a former library is."
   ]
  },
  {
   "cell_type": "code",
   "execution_count": 586,
   "id": "c8b7d55c-1410-49e5-96da-c7fff47ab184",
   "metadata": {},
   "outputs": [
    {
     "data": {
      "text/plain": [
       "Class\n",
       "None        2456\n",
       "Euclid      1897\n",
       "Safe        1681\n",
       "Keter        690\n",
       "Thaumiel      72\n",
       "Name: count, dtype: int64"
      ]
     },
     "execution_count": 586,
     "metadata": {},
     "output_type": "execute_result"
    }
   ],
   "source": [
    "df[\"Class\"].value_counts().head()"
   ]
  },
  {
   "cell_type": "markdown",
   "id": "1677bfcd-93b9-40fc-832b-4c18fc7119d3",
   "metadata": {},
   "source": [
    "The most frequent classes are all linked to containment: Safe, Euclid and Keter all indicate the level of difficulty of containing the SCP while Thaumiel indicates that the SCP can be used for the containment of one or more other SCPs. This is because the SCP Foundation's primary goal is, at its name indicates, to [secure and contain anomalies in order to protect humanity and the anomalies themselves from unpredictable and/or harmful anomalous behavior](https://scp-wiki.wikidot.com/about-the-scp-foundation). However, in the case of SCP-2602, containment is considered less relevant than the fact that it used to be a library."
   ]
  },
  {
   "cell_type": "markdown",
   "id": "997eb300-923c-4e1c-8a66-7c07f0aced74",
   "metadata": {},
   "source": [
    "## Conclusion\n",
    "\n",
    "SCP-2602 is unique in how much its former use (as a library) influences every one of its current caracteristics as well as the characteristics of the information the Foundation has collected about it."
   ]
  },
  {
   "cell_type": "markdown",
   "id": "cba0a775-d2f3-4250-a098-13f29aca8302",
   "metadata": {},
   "source": [
    "## Reference\n",
    "\n",
    "\"[SCP-2602, which used to be a library](https://scp-wiki.wikidot.com/scp-2602)\" by Communism will win, from the [SCP Wiki](https://scpwiki.com/). Source: https://scpwiki.com/scp-2602. Licensed under [CC-BY-SA](https://creativecommons.org/licenses/by-sa/3.0/)."
   ]
  }
 ],
 "metadata": {
  "kernelspec": {
   "display_name": "Python [conda env:base] *",
   "language": "python",
   "name": "conda-base-py"
  },
  "language_info": {
   "codemirror_mode": {
    "name": "ipython",
    "version": 3
   },
   "file_extension": ".py",
   "mimetype": "text/x-python",
   "name": "python",
   "nbconvert_exporter": "python",
   "pygments_lexer": "ipython3",
   "version": "3.11.7"
  }
 },
 "nbformat": 4,
 "nbformat_minor": 5
}
