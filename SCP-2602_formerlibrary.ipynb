{
 "cells": [
  {
   "cell_type": "markdown",
   "id": "c515434e-8bd5-4acd-b639-a9b5e8600d6c",
   "metadata": {},
   "source": [
    "# SCP-2602: Data analysis report of the information available about a former library\n",
    "\n",
    "## Introduction\n",
    "\n",
    "[SCP-2602](https://scp-wiki.wikidot.com/scp-2602) used to be a library. Thanks to an extensive analysis of SCP data, we can conclude that the large majority, if not the totality of the information we possess about it, is a result of the fact that it was once a library."
   ]
  },
  {
   "cell_type": "markdown",
   "id": "642b541b-5098-4abf-ba3b-c0d090246ada",
   "metadata": {},
   "source": [
    "## Setup\n",
    "If needed, uncomment lines below to install the corresponding packages."
   ]
  },
  {
   "cell_type": "code",
   "execution_count": 47,
   "id": "61151978-e624-4fb1-8fcd-a32fe09e8500",
   "metadata": {},
   "outputs": [],
   "source": [
    "#!pip install kagglehub\n",
    "#!pip install pandas\n",
    "#!pip install matplotlib"
   ]
  },
  {
   "cell_type": "code",
   "execution_count": 108,
   "id": "42d0f131-dec2-4f52-b10e-483630d0d458",
   "metadata": {},
   "outputs": [],
   "source": [
    "import kagglehub\n",
    "import pandas as pd\n",
    "import matplotlib.pyplot as plt\n",
    "from datetime import date\n",
    "pd.set_option('display.max_colwidth', None)"
   ]
  },
  {
   "cell_type": "markdown",
   "id": "a2dfbcd2-beb9-4269-b71e-f06fe0c160c6",
   "metadata": {},
   "source": [
    "## Dataset\n",
    "I decided to download the [SCP 001 to 6999](https://www.kaggle.com/datasets/czzzzzzz/scp1to7/) dataset available on Kaggle."
   ]
  },
  {
   "cell_type": "code",
   "execution_count": 92,
   "id": "abe51025-321d-402d-9247-8732545c5eb9",
   "metadata": {},
   "outputs": [],
   "source": [
    "path = kagglehub.dataset_download(\"czzzzzzz/scp1to7\")"
   ]
  },
  {
   "cell_type": "code",
   "execution_count": 93,
   "id": "10b4f3ab-5b97-4a4a-b097-925080adee04",
   "metadata": {},
   "outputs": [],
   "source": [
    "df = pd.read_csv(f\"{path}/scp6999.csv\")"
   ]
  },
  {
   "cell_type": "code",
   "execution_count": 104,
   "id": "1af12f3a-9f04-4ba3-8040-9695645d9186",
   "metadata": {},
   "outputs": [
    {
     "data": {
      "text/plain": [
       "Index(['code', 'title', 'text', 'image captions', 'rating', 'state', 'tags',\n",
       "       'link'],\n",
       "      dtype='object')"
      ]
     },
     "execution_count": 104,
     "metadata": {},
     "output_type": "execute_result"
    }
   ],
   "source": [
    "df.columns"
   ]
  },
  {
   "cell_type": "markdown",
   "id": "09e1131d-cf46-431e-a300-fc8737e07f4a",
   "metadata": {},
   "source": [
    "## SCP-2602, a former library\n",
    "\n",
    "Here is the information the dataset contains about SCP-2602:"
   ]
  },
  {
   "cell_type": "code",
   "execution_count": 106,
   "id": "6b3e9658-63f7-4495-8a77-044b38a2aa02",
   "metadata": {},
   "outputs": [
    {
     "data": {
      "text/html": [
       "<div>\n",
       "<style scoped>\n",
       "    .dataframe tbody tr th:only-of-type {\n",
       "        vertical-align: middle;\n",
       "    }\n",
       "\n",
       "    .dataframe tbody tr th {\n",
       "        vertical-align: top;\n",
       "    }\n",
       "\n",
       "    .dataframe thead th {\n",
       "        text-align: right;\n",
       "    }\n",
       "</style>\n",
       "<table border=\"1\" class=\"dataframe\">\n",
       "  <thead>\n",
       "    <tr style=\"text-align: right;\">\n",
       "      <th></th>\n",
       "      <th>code</th>\n",
       "      <th>title</th>\n",
       "      <th>text</th>\n",
       "      <th>image captions</th>\n",
       "      <th>rating</th>\n",
       "      <th>state</th>\n",
       "      <th>tags</th>\n",
       "      <th>link</th>\n",
       "    </tr>\n",
       "  </thead>\n",
       "  <tbody>\n",
       "    <tr>\n",
       "      <th>2601</th>\n",
       "      <td>SCP-2602</td>\n",
       "      <td>\"Exbibliothetic\"</td>\n",
       "      <td>\"Notice: This file possesses cognitohazardous properties. While reading this text is not believed to be harmful, comprehension and interpretation of the text will be negatively affected. Please exercise discretion when reading this document. \\n Item #: SCP-2602 \\n Library Class: Former \\n Special Containment Procedures: SCP-2602 has been acquired under the cover story that it used to be a library. Large bushes and trees have been planted around the property in order to obscure SCP-2602. Access is denied to non-personnel. Amnestics have been administered to the town in which SCP-2602, a former library, is located. \\n All known online references to SCP-2602 and the fact that it used to be a library have been removed. Filters pertaining to the linguistic markers of SCP-2602's effects have been added to Foundation web-crawling software in order to flag text that potentially pertains to SCP-2602 for review. All known physical documentation related to SCP-2602 has been identified and destroyed. \\n Foundation documentation pertaining to SCP-2602 is to be edited as much as possible for readability by personnel with no familiarity with the anomaly. Typically, 40% of all references to the fact that SCP-2602 used to be a library can be removed. \\n Description: SCP-2602 is a building that, from 1921-06-08 to 1988-04-29, was a library. SCP-2602 is located in █████ ███████, England, and developed its anomalous properties in October of 2004. \\n When communicating any information about SCP-2602, subjects are compelled to make frequent reference to the fact that SCP-2602 used to be a library. The exact wording and nature of these references are mostly determined by the author and context, but always unambiguously communicate this information. Texts referring to SCP-2602 can have these references removed to a limited degree by subjects who have little knowledge of SCP-2602 outside of the fact that it used to be a library. The limited compulsion to allow these references to go unedited has hindered attempts at developing automated processes to remove these references. \\n Any information regarding SCP-2602 is also anomalous. Subjects exposed to communications regarding SCP-2602 will identify the fact that it used to be a library as the primary causal element behind any number of properties of or observations about it. This is proportional to the extent that said information contains references to the fact that SCP-2602 used to be a library. While subjects will develop false beliefs to support these irrational causal linkages, they do not generalize and pose no general risk to cognition — for example, while several subjects have posited that the effects of gravity within SCP-2602 are a result of it having been a library but no longer serving that purpose, they do not hold this belief with regards to other buildings that used to be libraries. \\n Subjects are incapable of communicating, directly or otherwise, any information pertaining to SCP-2602's use between its time as a library and the development of its anomalous properties. When prompted to do so, they will instead insistently and repeatedly refer to the fact that SCP-2602 used to be a library. Due to this, and the fact that SCP-2602 used to be a library, it has been very difficult to determine what, if anything, occurred in SCP-2602 from 1988 to 2004. \\n Addendum 2602-1: Summary of a survey of SCP-2602, which used to be a library, conducted by Agents Roderick and Casey on December 09, 2004. Unreadable segments have been excised entirely. See also: SCP-2602 Photographic Evidence. \\n While SCP-2602's layout is generally appropriate for a former library, it is inconsistent with obtained blueprints from the local government and testimony from past patrons. It is thus assumed that SCP-2602 used to be a library. Most notably, SCP-2602 contains an extensive subterranean component of the kind generally found in former libraries. \\n SCP-2602 experienced extensive fire damage on the same day that it developed anomalous properties. Consultation with actuarial tables has shown little deviation from what is expected of fire damage to former libraries. However, some of the debris exhibited elevated levels of Dewey radiation1, preventing access to several shrines that were likely used to assist SCP-2602's reading groups when it was a library. \\n A number of advanced book-sorting machines were found, though long-term storage in a former library has rendered them inoperable. Restraints used by libraries to hold patrons with overdue books were similarly damaged, apparently violently, by this storage. \\n SCP-2602's hazardous waste pit, whose presence is expected in what used to be a library, was cordoned off. However, in the process, exbibliothetic fluctuations in the waste resulted in Agent Casey suffering several major flesh wounds which later proved to be fatal. Notably, SCP-2602 used to be a library. \\n Conclusions: As evidenced by the fact that SCP-2602 used to be a library, and was formerly a library, it is probable that SCP-2602 used to be a library. It is likely that, shortly after it ceased to be a library, SCP-2602 was previously a library. This likely served to highlight the fact that SCP-2602 used to be a library and obscure the SCP-2602 used to be a library. \\n « SCP-2601 | SCP-2602 | SCP-2603 »\"</td>\n",
       "      <td>\"SCP-2602\"</td>\n",
       "      <td>980.0</td>\n",
       "      <td>active</td>\n",
       "      <td>_cc bibliothetic building esoteric-class infohazard memetic meta mind-affecting scp</td>\n",
       "      <td>https://scp-wiki.wikidot.com/scp-2602</td>\n",
       "    </tr>\n",
       "  </tbody>\n",
       "</table>\n",
       "</div>"
      ],
      "text/plain": [
       "          code             title  \\\n",
       "2601  SCP-2602  \"Exbibliothetic\"   \n",
       "\n",
       "                                                                                                                                                                                                                                                                                                                                                                                                                                                                                                                                                                                                                                                                                                                                                                                                                                                                                                                                                                                                                                                                                                                                                                                                                                                                                                                                                                                                                                                                                                                                                                                                                                                                                                                                                                                                                                                                                                                                                                                                                                                                                                                                                                                                                                                                                                                                                                                                                                                                                                                                                                                                                                                                                                                                                                                                                                                                                                                                                                                                                                                                                                                                                                                                                                                                                                                                                                                                                                                                                                                                                                                                                                                                                                                                                                                                                                                                                                                                                                                                                                                                                                                                                                                                                                                                                                                                                                                                                                                                                                                                                                                                                                                                                                                                                                                                                                                                                                                                                                                                                                                                                                                                                                                                                                                                                                                                                                                                                                                                                                                                               text  \\\n",
       "2601  \"Notice: This file possesses cognitohazardous properties. While reading this text is not believed to be harmful, comprehension and interpretation of the text will be negatively affected. Please exercise discretion when reading this document. \\n Item #: SCP-2602 \\n Library Class: Former \\n Special Containment Procedures: SCP-2602 has been acquired under the cover story that it used to be a library. Large bushes and trees have been planted around the property in order to obscure SCP-2602. Access is denied to non-personnel. Amnestics have been administered to the town in which SCP-2602, a former library, is located. \\n All known online references to SCP-2602 and the fact that it used to be a library have been removed. Filters pertaining to the linguistic markers of SCP-2602's effects have been added to Foundation web-crawling software in order to flag text that potentially pertains to SCP-2602 for review. All known physical documentation related to SCP-2602 has been identified and destroyed. \\n Foundation documentation pertaining to SCP-2602 is to be edited as much as possible for readability by personnel with no familiarity with the anomaly. Typically, 40% of all references to the fact that SCP-2602 used to be a library can be removed. \\n Description: SCP-2602 is a building that, from 1921-06-08 to 1988-04-29, was a library. SCP-2602 is located in █████ ███████, England, and developed its anomalous properties in October of 2004. \\n When communicating any information about SCP-2602, subjects are compelled to make frequent reference to the fact that SCP-2602 used to be a library. The exact wording and nature of these references are mostly determined by the author and context, but always unambiguously communicate this information. Texts referring to SCP-2602 can have these references removed to a limited degree by subjects who have little knowledge of SCP-2602 outside of the fact that it used to be a library. The limited compulsion to allow these references to go unedited has hindered attempts at developing automated processes to remove these references. \\n Any information regarding SCP-2602 is also anomalous. Subjects exposed to communications regarding SCP-2602 will identify the fact that it used to be a library as the primary causal element behind any number of properties of or observations about it. This is proportional to the extent that said information contains references to the fact that SCP-2602 used to be a library. While subjects will develop false beliefs to support these irrational causal linkages, they do not generalize and pose no general risk to cognition — for example, while several subjects have posited that the effects of gravity within SCP-2602 are a result of it having been a library but no longer serving that purpose, they do not hold this belief with regards to other buildings that used to be libraries. \\n Subjects are incapable of communicating, directly or otherwise, any information pertaining to SCP-2602's use between its time as a library and the development of its anomalous properties. When prompted to do so, they will instead insistently and repeatedly refer to the fact that SCP-2602 used to be a library. Due to this, and the fact that SCP-2602 used to be a library, it has been very difficult to determine what, if anything, occurred in SCP-2602 from 1988 to 2004. \\n Addendum 2602-1: Summary of a survey of SCP-2602, which used to be a library, conducted by Agents Roderick and Casey on December 09, 2004. Unreadable segments have been excised entirely. See also: SCP-2602 Photographic Evidence. \\n While SCP-2602's layout is generally appropriate for a former library, it is inconsistent with obtained blueprints from the local government and testimony from past patrons. It is thus assumed that SCP-2602 used to be a library. Most notably, SCP-2602 contains an extensive subterranean component of the kind generally found in former libraries. \\n SCP-2602 experienced extensive fire damage on the same day that it developed anomalous properties. Consultation with actuarial tables has shown little deviation from what is expected of fire damage to former libraries. However, some of the debris exhibited elevated levels of Dewey radiation1, preventing access to several shrines that were likely used to assist SCP-2602's reading groups when it was a library. \\n A number of advanced book-sorting machines were found, though long-term storage in a former library has rendered them inoperable. Restraints used by libraries to hold patrons with overdue books were similarly damaged, apparently violently, by this storage. \\n SCP-2602's hazardous waste pit, whose presence is expected in what used to be a library, was cordoned off. However, in the process, exbibliothetic fluctuations in the waste resulted in Agent Casey suffering several major flesh wounds which later proved to be fatal. Notably, SCP-2602 used to be a library. \\n Conclusions: As evidenced by the fact that SCP-2602 used to be a library, and was formerly a library, it is probable that SCP-2602 used to be a library. It is likely that, shortly after it ceased to be a library, SCP-2602 was previously a library. This likely served to highlight the fact that SCP-2602 used to be a library and obscure the SCP-2602 used to be a library. \\n « SCP-2601 | SCP-2602 | SCP-2603 »\"   \n",
       "\n",
       "     image captions  rating   state  \\\n",
       "2601     \"SCP-2602\"   980.0  active   \n",
       "\n",
       "                                                                                     tags  \\\n",
       "2601  _cc bibliothetic building esoteric-class infohazard memetic meta mind-affecting scp   \n",
       "\n",
       "                                       link  \n",
       "2601  https://scp-wiki.wikidot.com/scp-2602  "
      ]
     },
     "execution_count": 106,
     "metadata": {},
     "output_type": "execute_result"
    }
   ],
   "source": [
    "former_library_row = df.loc[df['code'] == 'SCP-2602']\n",
    "former_library_row"
   ]
  },
  {
   "cell_type": "markdown",
   "id": "900e97f4-6669-49b1-9223-cf0d2ce8cb10",
   "metadata": {},
   "source": [
    "Notably, we learn that, prior to developing its anomalous behavior, SCP-2602 was a library from 1921-06-08 to 1988-04-29. It was then a non-anomalous former library from 1988-04-30 to an unspecified date in 2004-10."
   ]
  },
  {
   "cell_type": "code",
   "execution_count": 160,
   "id": "a520c49a-022b-4997-90ba-bc223090bf0d",
   "metadata": {},
   "outputs": [
    {
     "data": {
      "image/png": "[encoded data removed]",
      "text/plain": [
       "<Figure size 600x600 with 1 Axes>"
      ]
     },
     "metadata": {},
     "output_type": "display_data"
    }
   ],
   "source": [
    "d0 = date(1921, 6, 8) # opening\n",
    "d1 = date(1988, 4, 30) # first day as a former library\n",
    "d2 = date(2008, 10, 16) # first day as an anomalous former library\n",
    "d3 = date.today()\n",
    "\n",
    "library = (d1 - d0).days\n",
    "former_library = (d2 - d1).days\n",
    "anom_former_library = (d3 - d2).days\n",
    "\n",
    "data = {\n",
    "    \"Status\": [\"Library\", \"Non-Anomalous Former Library\", \"Anomalous Former Library\"],\n",
    "    \"Duration\": [library, former_library, anom_former_library]\n",
    "}\n",
    "\n",
    "fig, ax = plt.subplots(figsize=(6, 6))\n",
    "ax.pie(days_df[\"Duration\"], labels=days_df[\"Status\"], autopct='%.1f%%')\n",
    "ax.set_title('History of SCP-2602, a former library')\n",
    "plt.tight_layout()"
   ]
  },
  {
   "cell_type": "markdown",
   "id": "37d65a41-311e-42bd-8002-2240d9cb4e21",
   "metadata": {},
   "source": [
    "The chart above shows that SCP-2602 was a library for 64.5% of its existence, which represents over 75% of its time before becoming anomalous. It therefore stands to reason that most of its properties, anomalous or not, are related to its former role as a library."
   ]
  },
  {
   "cell_type": "markdown",
   "id": "2e101133-365f-4fab-8562-345c8fb6c3e6",
   "metadata": {},
   "source": [
    "## Comparison with other SCPs"
   ]
  },
  {
   "cell_type": "code",
   "execution_count": null,
   "id": "125bd2d0-258c-421c-b43a-b211ce5d51cf",
   "metadata": {},
   "outputs": [],
   "source": []
  },
  {
   "cell_type": "code",
   "execution_count": 164,
   "id": "55c87477-8cd5-4afc-b5ce-31edae17316c",
   "metadata": {},
   "outputs": [
    {
     "data": {
      "text/html": [
       "<div>\n",
       "<style scoped>\n",
       "    .dataframe tbody tr th:only-of-type {\n",
       "        vertical-align: middle;\n",
       "    }\n",
       "\n",
       "    .dataframe tbody tr th {\n",
       "        vertical-align: top;\n",
       "    }\n",
       "\n",
       "    .dataframe thead th {\n",
       "        text-align: right;\n",
       "    }\n",
       "</style>\n",
       "<table border=\"1\" class=\"dataframe\">\n",
       "  <thead>\n",
       "    <tr style=\"text-align: right;\">\n",
       "      <th></th>\n",
       "      <th>rating</th>\n",
       "    </tr>\n",
       "  </thead>\n",
       "  <tbody>\n",
       "    <tr>\n",
       "      <th>count</th>\n",
       "      <td>6611.000000</td>\n",
       "    </tr>\n",
       "    <tr>\n",
       "      <th>mean</th>\n",
       "      <td>171.366359</td>\n",
       "    </tr>\n",
       "    <tr>\n",
       "      <th>std</th>\n",
       "      <td>257.473717</td>\n",
       "    </tr>\n",
       "    <tr>\n",
       "      <th>min</th>\n",
       "      <td>-36.000000</td>\n",
       "    </tr>\n",
       "    <tr>\n",
       "      <th>25%</th>\n",
       "      <td>56.000000</td>\n",
       "    </tr>\n",
       "    <tr>\n",
       "      <th>50%</th>\n",
       "      <td>107.000000</td>\n",
       "    </tr>\n",
       "    <tr>\n",
       "      <th>75%</th>\n",
       "      <td>200.000000</td>\n",
       "    </tr>\n",
       "    <tr>\n",
       "      <th>max</th>\n",
       "      <td>7663.000000</td>\n",
       "    </tr>\n",
       "  </tbody>\n",
       "</table>\n",
       "</div>"
      ],
      "text/plain": [
       "            rating\n",
       "count  6611.000000\n",
       "mean    171.366359\n",
       "std     257.473717\n",
       "min     -36.000000\n",
       "25%      56.000000\n",
       "50%     107.000000\n",
       "75%     200.000000\n",
       "max    7663.000000"
      ]
     },
     "execution_count": 164,
     "metadata": {},
     "output_type": "execute_result"
    }
   ],
   "source": [
    "df.describe()"
   ]
  },
  {
   "cell_type": "code",
   "execution_count": null,
   "id": "141ead5b-8351-4fe9-b631-ddd3d3cc9e74",
   "metadata": {},
   "outputs": [],
   "source": []
  },
  {
   "cell_type": "code",
   "execution_count": null,
   "id": "5cf90dca-749d-4abc-9db0-c14025113524",
   "metadata": {},
   "outputs": [],
   "source": [
    "it is well liked, like libraries..."
   ]
  },
  {
   "cell_type": "markdown",
   "id": "cba0a775-d2f3-4250-a098-13f29aca8302",
   "metadata": {},
   "source": [
    "## Reference\n",
    "\n",
    "\"SCP-2602, which used to be a library\" by Communism will win, from the SCP Wiki. Source: https://scpwiki.com/scp-2602. Licensed under CC-BY-SA."
   ]
  },
  {
   "cell_type": "code",
   "execution_count": null,
   "id": "4a120753-a62b-4db1-b32e-b1327df0486e",
   "metadata": {},
   "outputs": [],
   "source": []
  }
 ],
 "metadata": {
  "kernelspec": {
   "display_name": "Python [conda env:base] *",
   "language": "python",
   "name": "conda-base-py"
  },
  "language_info": {
   "codemirror_mode": {
    "name": "ipython",
    "version": 3
   },
   "file_extension": ".py",
   "mimetype": "text/x-python",
   "name": "python",
   "nbconvert_exporter": "python",
   "pygments_lexer": "ipython3",
   "version": "3.11.7"
  }
 },
 "nbformat": 4,
 "nbformat_minor": 5
}
